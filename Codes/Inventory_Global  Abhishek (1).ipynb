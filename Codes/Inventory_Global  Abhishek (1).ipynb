{
 "cells": [
  {
   "cell_type": "code",
   "execution_count": 0,
   "metadata": {
    "application/vnd.databricks.v1+cell": {
     "cellMetadata": {
      "byteLimit": 2048000,
      "implicitDf": true,
      "rowLimit": 10000
     },
     "inputWidgets": {},
     "nuid": "b55cdf51-f4f8-436d-a0c3-388de8af029f",
     "showTitle": false,
     "title": ""
    }
   },
   "outputs": [
    {
     "output_type": "display_data",
     "data": {
      "text/html": [
       "<style scoped>\n",
       "  .table-result-container {\n",
       "    max-height: 300px;\n",
       "    overflow: auto;\n",
       "  }\n",
       "  table, th, td {\n",
       "    border: 1px solid black;\n",
       "    border-collapse: collapse;\n",
       "  }\n",
       "  th, td {\n",
       "    padding: 5px;\n",
       "  }\n",
       "  th {\n",
       "    text-align: left;\n",
       "  }\n",
       "</style><div class='table-result-container'><table class='table-result'><thead style='background-color: white'><tr></tr></thead><tbody></tbody></table></div>"
      ]
     },
     "metadata": {
      "application/vnd.databricks.v1+output": {
       "addedWidgets": {},
       "aggData": [],
       "aggError": "",
       "aggOverflow": false,
       "aggSchema": [],
       "aggSeriesLimitReached": false,
       "aggType": "",
       "arguments": {},
       "columnCustomDisplayInfos": {},
       "data": [],
       "datasetInfos": [],
       "dbfsResultPath": null,
       "isJsonSchema": true,
       "metadata": {},
       "overflow": false,
       "plotOptions": {
        "customPlotOptions": {},
        "displayType": "table",
        "pivotAggregation": null,
        "pivotColumns": null,
        "xColumns": null,
        "yColumns": null
       },
       "removedWidgets": [],
       "schema": [],
       "type": "table"
      }
     },
     "output_type": "display_data"
    }
   ],
   "source": [
    "%sql\n",
    "refresh table dp_inventory.plant_dim;\n",
    "refresh table dp_inventory.inv_fct_na;\n",
    "refresh table dp_inventory.inv_fct_la;\n",
    "refresh table dp_inventory.inv_fct_asia;\n",
    "refresh table dp_inventory.inv_fct_emea;\n",
    "refresh table dp_inventory.conversion_dim;\n",
    "refresh table dp_inventory.matl_dim;\n",
    "refresh table dp_inventory.val_class_dim;\n",
    "refresh table dp_masterdata_g11.marm_units_of_measure_for_material;\n",
    "refresh table dp_inventory.tdc_val_dim;"
   ]
  },
  {
   "cell_type": "code",
   "execution_count": 0,
   "metadata": {
    "application/vnd.databricks.v1+cell": {
     "cellMetadata": {
      "byteLimit": 2048000,
      "rowLimit": 10000
     },
     "inputWidgets": {},
     "nuid": "d4c9baec-0bf7-454c-9ac3-2525e3029c06",
     "showTitle": false,
     "title": ""
    }
   },
   "outputs": [
    {
     "output_type": "display_data",
     "data": {
      "text/html": [
       "<style scoped>\n",
       "  .ansiout {\n",
       "    display: block;\n",
       "    unicode-bidi: embed;\n",
       "    white-space: pre-wrap;\n",
       "    word-wrap: break-word;\n",
       "    word-break: break-all;\n",
       "    font-family: \"Source Code Pro\", \"Menlo\", monospace;;\n",
       "    font-size: 13px;\n",
       "    color: #555;\n",
       "    margin-left: 4px;\n",
       "    line-height: 19px;\n",
       "  }\n",
       "</style>\n",
       "<div class=\"ansiout\"></div>"
      ]
     },
     "metadata": {
      "application/vnd.databricks.v1+output": {
       "addedWidgets": {},
       "arguments": {},
       "data": "<div class=\"ansiout\"></div>",
       "datasetInfos": [],
       "metadata": {},
       "removedWidgets": [],
       "type": "html"
      }
     },
     "output_type": "display_data"
    }
   ],
   "source": [
    "spark.conf.set(\"spark.sql.adaptive.enabled\",\"true\")\n",
    "spark.conf.set(\"spark.sql.adaptive.coalescePartitions.enabled\",\"true\")\n",
    "spark.conf.set(\"spark.sql.adaptive.skewJoin.enabled\",\"true\")"
   ]
  },
  {
   "cell_type": "code",
   "execution_count": 0,
   "metadata": {
    "application/vnd.databricks.v1+cell": {
     "cellMetadata": {
      "byteLimit": 2048000,
      "rowLimit": 10000
     },
     "inputWidgets": {},
     "nuid": "aaaf16d5-a4ca-4096-a534-95edee965330",
     "showTitle": false,
     "title": ""
    }
   },
   "outputs": [
    {
     "output_type": "display_data",
     "data": {
      "text/html": [
       "<style scoped>\n",
       "  .ansiout {\n",
       "    display: block;\n",
       "    unicode-bidi: embed;\n",
       "    white-space: pre-wrap;\n",
       "    word-wrap: break-word;\n",
       "    word-break: break-all;\n",
       "    font-family: \"Source Code Pro\", \"Menlo\", monospace;;\n",
       "    font-size: 13px;\n",
       "    color: #555;\n",
       "    margin-left: 4px;\n",
       "    line-height: 19px;\n",
       "  }\n",
       "</style>\n",
       "<div class=\"ansiout\"></div>"
      ]
     },
     "metadata": {
      "application/vnd.databricks.v1+output": {
       "addedWidgets": {},
       "arguments": {},
       "data": "<div class=\"ansiout\"></div>",
       "datasetInfos": [],
       "metadata": {},
       "removedWidgets": [],
       "type": "html"
      }
     },
     "output_type": "display_data"
    }
   ],
   "source": [
    "from pyspark import StorageLevel\n",
    "from pyspark.sql.functions import col"
   ]
  },
  {
   "cell_type": "code",
   "execution_count": 0,
   "metadata": {
    "application/vnd.databricks.v1+cell": {
     "cellMetadata": {
      "byteLimit": 2048000,
      "rowLimit": 10000
     },
     "inputWidgets": {},
     "nuid": "74b8f918-0df3-4f7e-8353-bb41a8555174",
     "showTitle": false,
     "title": ""
    }
   },
   "outputs": [
    {
     "output_type": "display_data",
     "data": {
      "text/html": [
       "<style scoped>\n",
       "  .ansiout {\n",
       "    display: block;\n",
       "    unicode-bidi: embed;\n",
       "    white-space: pre-wrap;\n",
       "    word-wrap: break-word;\n",
       "    word-break: break-all;\n",
       "    font-family: \"Source Code Pro\", \"Menlo\", monospace;;\n",
       "    font-size: 13px;\n",
       "    color: #555;\n",
       "    margin-left: 4px;\n",
       "    line-height: 19px;\n",
       "  }\n",
       "</style>\n",
       "<div class=\"ansiout\"></div>"
      ]
     },
     "metadata": {
      "application/vnd.databricks.v1+output": {
       "addedWidgets": {},
       "arguments": {},
       "data": "<div class=\"ansiout\"></div>",
       "datasetInfos": [],
       "metadata": {},
       "removedWidgets": [],
       "type": "html"
      }
     },
     "output_type": "display_data"
    }
   ],
   "source": [
    "inv_fct_na_df=spark.sql(\n",
    "  \"\"\"select calendar_date,calendar_year_month,complex_decomposition,region,msu_total_plant_stock,msu_mrp_available_csp_agg,msu_safety_stock,msu_quality_inspection,msu_stock_in_transit,usd_total_plant_stock,usd_mrp_available_csp_agg,usd_safety_stock,usd_quality_inspection,usd_stock_in_transit,raw_total_plant_stock,raw_mrp_available_csp_agg,raw_safety_stock,raw_quality_inspection,raw_stock_in_transit,buom_total_plant_stock,tdc_val,material,valuation_class,currency_key,plant,\"inv_fct_na\" fct_type from dp_inventory.inv_fct_na\n",
    "  WHERE calendar_date BETWEEN CAST( DATEADD(YEAR, -2, current_date) AS DATE) AND current_date\n",
    "\"\"\")"
   ]
  },
  {
   "cell_type": "code",
   "execution_count": 0,
   "metadata": {
    "application/vnd.databricks.v1+cell": {
     "cellMetadata": {
      "byteLimit": 2048000,
      "rowLimit": 10000
     },
     "inputWidgets": {},
     "nuid": "36f4a14f-d009-4d87-9af9-91dfe8cbbc70",
     "showTitle": false,
     "title": ""
    }
   },
   "outputs": [
    {
     "output_type": "display_data",
     "data": {
      "text/html": [
       "<style scoped>\n",
       "  .ansiout {\n",
       "    display: block;\n",
       "    unicode-bidi: embed;\n",
       "    white-space: pre-wrap;\n",
       "    word-wrap: break-word;\n",
       "    word-break: break-all;\n",
       "    font-family: \"Source Code Pro\", \"Menlo\", monospace;;\n",
       "    font-size: 13px;\n",
       "    color: #555;\n",
       "    margin-left: 4px;\n",
       "    line-height: 19px;\n",
       "  }\n",
       "</style>\n",
       "<div class=\"ansiout\"></div>"
      ]
     },
     "metadata": {
      "application/vnd.databricks.v1+output": {
       "addedWidgets": {},
       "arguments": {},
       "data": "<div class=\"ansiout\"></div>",
       "datasetInfos": [],
       "metadata": {},
       "removedWidgets": [],
       "type": "html"
      }
     },
     "output_type": "display_data"
    }
   ],
   "source": [
    "inv_fct_la_df=spark.sql(\"\"\"select calendar_date,calendar_year_month,complex_decomposition,region,msu_total_plant_stock,msu_mrp_available_csp_agg,msu_safety_stock,msu_quality_inspection,msu_stock_in_transit,usd_total_plant_stock,usd_mrp_available_csp_agg,usd_safety_stock,usd_quality_inspection,usd_stock_in_transit,raw_total_plant_stock,raw_mrp_available_csp_agg,raw_safety_stock,raw_quality_inspection,raw_stock_in_transit,buom_total_plant_stock,tdc_val,material,valuation_class,currency_key,plant,\"inv_fct_la\" fct_type from dp_inventory.inv_fct_la\n",
    "WHERE calendar_date BETWEEN CAST( DATEADD(YEAR, -2, current_date) AS DATE) AND current_date\n",
    "\"\"\")"
   ]
  },
  {
   "cell_type": "code",
   "execution_count": 0,
   "metadata": {
    "application/vnd.databricks.v1+cell": {
     "cellMetadata": {
      "byteLimit": 2048000,
      "rowLimit": 10000
     },
     "inputWidgets": {},
     "nuid": "de2433df-57cd-46a1-aa1b-214bd1442d15",
     "showTitle": false,
     "title": ""
    }
   },
   "outputs": [
    {
     "output_type": "display_data",
     "data": {
      "text/html": [
       "<style scoped>\n",
       "  .ansiout {\n",
       "    display: block;\n",
       "    unicode-bidi: embed;\n",
       "    white-space: pre-wrap;\n",
       "    word-wrap: break-word;\n",
       "    word-break: break-all;\n",
       "    font-family: \"Source Code Pro\", \"Menlo\", monospace;;\n",
       "    font-size: 13px;\n",
       "    color: #555;\n",
       "    margin-left: 4px;\n",
       "    line-height: 19px;\n",
       "  }\n",
       "</style>\n",
       "<div class=\"ansiout\"></div>"
      ]
     },
     "metadata": {
      "application/vnd.databricks.v1+output": {
       "addedWidgets": {},
       "arguments": {},
       "data": "<div class=\"ansiout\"></div>",
       "datasetInfos": [],
       "metadata": {},
       "removedWidgets": [],
       "type": "html"
      }
     },
     "output_type": "display_data"
    }
   ],
   "source": [
    "inv_fct_asia_df=spark.sql(\"\"\"select calendar_date,calendar_year_month,complex_decomposition,region,msu_total_plant_stock,msu_mrp_available_csp_agg,msu_safety_stock,msu_quality_inspection,msu_stock_in_transit,usd_total_plant_stock,usd_mrp_available_csp_agg,usd_safety_stock,usd_quality_inspection,usd_stock_in_transit,raw_total_plant_stock,raw_mrp_available_csp_agg,raw_safety_stock,raw_quality_inspection,raw_stock_in_transit,buom_total_plant_stock,tdc_val,material,valuation_class,currency_key,plant,\"inv_fct_asia\" fct_type from dp_inventory.inv_fct_asia\n",
    "WHERE calendar_date BETWEEN CAST( DATEADD(YEAR, -2, current_date) AS DATE) AND current_date\n",
    "\"\"\")"
   ]
  },
  {
   "cell_type": "code",
   "execution_count": 0,
   "metadata": {
    "application/vnd.databricks.v1+cell": {
     "cellMetadata": {
      "byteLimit": 2048000,
      "rowLimit": 10000
     },
     "inputWidgets": {},
     "nuid": "84c0b5cb-e863-4987-947c-20e896c8e3a9",
     "showTitle": false,
     "title": ""
    }
   },
   "outputs": [
    {
     "output_type": "display_data",
     "data": {
      "text/html": [
       "<style scoped>\n",
       "  .ansiout {\n",
       "    display: block;\n",
       "    unicode-bidi: embed;\n",
       "    white-space: pre-wrap;\n",
       "    word-wrap: break-word;\n",
       "    word-break: break-all;\n",
       "    font-family: \"Source Code Pro\", \"Menlo\", monospace;;\n",
       "    font-size: 13px;\n",
       "    color: #555;\n",
       "    margin-left: 4px;\n",
       "    line-height: 19px;\n",
       "  }\n",
       "</style>\n",
       "<div class=\"ansiout\"></div>"
      ]
     },
     "metadata": {
      "application/vnd.databricks.v1+output": {
       "addedWidgets": {},
       "arguments": {},
       "data": "<div class=\"ansiout\"></div>",
       "datasetInfos": [],
       "metadata": {},
       "removedWidgets": [],
       "type": "html"
      }
     },
     "output_type": "display_data"
    }
   ],
   "source": [
    "inv_fct_emea_df=spark.sql(\"\"\"select calendar_date,calendar_year_month,complex_decomposition,region,msu_total_plant_stock,msu_mrp_available_csp_agg,msu_safety_stock,msu_quality_inspection,msu_stock_in_transit,usd_total_plant_stock,usd_mrp_available_csp_agg,usd_safety_stock,usd_quality_inspection,usd_stock_in_transit,raw_total_plant_stock,raw_mrp_available_csp_agg,raw_safety_stock,raw_quality_inspection,raw_stock_in_transit,buom_total_plant_stock,tdc_val,material,valuation_class,currency_key,plant,\"inv_fct_emea\" fct_type from dp_inventory.inv_fct_emea\n",
    "WHERE calendar_date BETWEEN CAST( DATEADD(YEAR, -2, current_date) AS DATE) AND current_date\n",
    "\"\"\")"
   ]
  },
  {
   "cell_type": "code",
   "execution_count": 0,
   "metadata": {
    "application/vnd.databricks.v1+cell": {
     "cellMetadata": {
      "byteLimit": 2048000,
      "rowLimit": 10000
     },
     "inputWidgets": {},
     "nuid": "0367f356-3b8e-41c7-b26b-4bd67543f71b",
     "showTitle": false,
     "title": ""
    }
   },
   "outputs": [
    {
     "output_type": "display_data",
     "data": {
      "text/html": [
       "<style scoped>\n",
       "  .ansiout {\n",
       "    display: block;\n",
       "    unicode-bidi: embed;\n",
       "    white-space: pre-wrap;\n",
       "    word-wrap: break-word;\n",
       "    word-break: break-all;\n",
       "    font-family: \"Source Code Pro\", \"Menlo\", monospace;;\n",
       "    font-size: 13px;\n",
       "    color: #555;\n",
       "    margin-left: 4px;\n",
       "    line-height: 19px;\n",
       "  }\n",
       "</style>\n",
       "<div class=\"ansiout\"></div>"
      ]
     },
     "metadata": {
      "application/vnd.databricks.v1+output": {
       "addedWidgets": {},
       "arguments": {},
       "data": "<div class=\"ansiout\"></div>",
       "datasetInfos": [],
       "metadata": {},
       "removedWidgets": [],
       "type": "html"
      }
     },
     "output_type": "display_data"
    }
   ],
   "source": [
    "from functools import reduce\n",
    "from pyspark.sql import DataFrame\n",
    "\n",
    "dfs = [inv_fct_na_df, inv_fct_la_df,inv_fct_asia_df,inv_fct_emea_df]\n",
    "union_df = reduce(lambda x, y: x.unionByName(y, allowMissingColumns=True), dfs)"
   ]
  },
  {
   "cell_type": "code",
   "execution_count": 0,
   "metadata": {
    "application/vnd.databricks.v1+cell": {
     "cellMetadata": {
      "byteLimit": 2048000,
      "rowLimit": 10000
     },
     "inputWidgets": {},
     "nuid": "6ecf10ec-fa8d-4078-9995-0651f77eb9e7",
     "showTitle": false,
     "title": ""
    }
   },
   "outputs": [
    {
     "output_type": "display_data",
     "data": {
      "text/html": [
       "<style scoped>\n",
       "  .ansiout {\n",
       "    display: block;\n",
       "    unicode-bidi: embed;\n",
       "    white-space: pre-wrap;\n",
       "    word-wrap: break-word;\n",
       "    word-break: break-all;\n",
       "    font-family: \"Source Code Pro\", \"Menlo\", monospace;;\n",
       "    font-size: 13px;\n",
       "    color: #555;\n",
       "    margin-left: 4px;\n",
       "    line-height: 19px;\n",
       "  }\n",
       "</style>\n",
       "<div class=\"ansiout\"></div>"
      ]
     },
     "metadata": {
      "application/vnd.databricks.v1+output": {
       "addedWidgets": {},
       "arguments": {},
       "data": "<div class=\"ansiout\"></div>",
       "datasetInfos": [],
       "metadata": {},
       "removedWidgets": [],
       "type": "html"
      }
     },
     "output_type": "display_data"
    }
   ],
   "source": [
    "union_df=union_df.repartition(200)"
   ]
  },
  {
   "cell_type": "code",
   "execution_count": 0,
   "metadata": {
    "application/vnd.databricks.v1+cell": {
     "cellMetadata": {
      "byteLimit": 2048000,
      "rowLimit": 10000
     },
     "inputWidgets": {},
     "nuid": "dc15e82b-b7df-4e62-b129-f9aeed2863af",
     "showTitle": false,
     "title": ""
    }
   },
   "outputs": [
    {
     "output_type": "display_data",
     "data": {
      "text/html": [
       "<style scoped>\n",
       "  .ansiout {\n",
       "    display: block;\n",
       "    unicode-bidi: embed;\n",
       "    white-space: pre-wrap;\n",
       "    word-wrap: break-word;\n",
       "    word-break: break-all;\n",
       "    font-family: \"Source Code Pro\", \"Menlo\", monospace;;\n",
       "    font-size: 13px;\n",
       "    color: #555;\n",
       "    margin-left: 4px;\n",
       "    line-height: 19px;\n",
       "  }\n",
       "</style>\n",
       "<div class=\"ansiout\">Out[10]: 3178293785</div>"
      ]
     },
     "metadata": {
      "application/vnd.databricks.v1+output": {
       "addedWidgets": {},
       "arguments": {},
       "data": "<div class=\"ansiout\">Out[10]: 3178293785</div>",
       "datasetInfos": [],
       "metadata": {},
       "removedWidgets": [],
       "type": "html"
      }
     },
     "output_type": "display_data"
    }
   ],
   "source": [
    "union_df.count()"
   ]
  },
  {
   "cell_type": "code",
   "execution_count": 0,
   "metadata": {
    "application/vnd.databricks.v1+cell": {
     "cellMetadata": {},
     "inputWidgets": {},
     "nuid": "fe39392f-2dcd-40c2-8feb-98853712eb7b",
     "showTitle": false,
     "title": ""
    }
   },
   "outputs": [],
   "source": [
    "#test"
   ]
  },
  {
   "cell_type": "code",
   "execution_count": 0,
   "metadata": {
    "application/vnd.databricks.v1+cell": {
     "cellMetadata": {
      "byteLimit": 2048000,
      "rowLimit": 10000
     },
     "inputWidgets": {},
     "nuid": "01784a23-8894-48ee-8598-7cd740233edc",
     "showTitle": false,
     "title": ""
    }
   },
   "outputs": [
    {
     "output_type": "display_data",
     "data": {
      "text/html": [
       "<style scoped>\n",
       "  .ansiout {\n",
       "    display: block;\n",
       "    unicode-bidi: embed;\n",
       "    white-space: pre-wrap;\n",
       "    word-wrap: break-word;\n",
       "    word-break: break-all;\n",
       "    font-family: \"Source Code Pro\", \"Menlo\", monospace;;\n",
       "    font-size: 13px;\n",
       "    color: #555;\n",
       "    margin-left: 4px;\n",
       "    line-height: 19px;\n",
       "  }\n",
       "</style>\n",
       "<div class=\"ansiout\"></div>"
      ]
     },
     "metadata": {
      "application/vnd.databricks.v1+output": {
       "addedWidgets": {},
       "arguments": {},
       "data": "<div class=\"ansiout\"></div>",
       "datasetInfos": [],
       "metadata": {},
       "removedWidgets": [],
       "type": "html"
      }
     },
     "output_type": "display_data"
    }
   ],
   "source": [
    "union_df = union_df.persist(StorageLevel.MEMORY_AND_DISK )"
   ]
  },
  {
   "cell_type": "code",
   "execution_count": 0,
   "metadata": {
    "application/vnd.databricks.v1+cell": {
     "cellMetadata": {
      "byteLimit": 2048000,
      "rowLimit": 10000
     },
     "inputWidgets": {},
     "nuid": "d57caca9-4541-429e-8e46-7eee709441c0",
     "showTitle": false,
     "title": ""
    }
   },
   "outputs": [
    {
     "output_type": "display_data",
     "data": {
      "text/html": [
       "<style scoped>\n",
       "  .ansiout {\n",
       "    display: block;\n",
       "    unicode-bidi: embed;\n",
       "    white-space: pre-wrap;\n",
       "    word-wrap: break-word;\n",
       "    word-break: break-all;\n",
       "    font-family: \"Source Code Pro\", \"Menlo\", monospace;;\n",
       "    font-size: 13px;\n",
       "    color: #555;\n",
       "    margin-left: 4px;\n",
       "    line-height: 19px;\n",
       "  }\n",
       "</style>\n",
       "<div class=\"ansiout\"></div>"
      ]
     },
     "metadata": {
      "application/vnd.databricks.v1+output": {
       "addedWidgets": {},
       "arguments": {},
       "data": "<div class=\"ansiout\"></div>",
       "datasetInfos": [],
       "metadata": {},
       "removedWidgets": [],
       "type": "html"
      }
     },
     "output_type": "display_data"
    }
   ],
   "source": [
    "union_df.createOrReplaceTempView(\"union_table\")"
   ]
  },
  {
   "cell_type": "code",
   "execution_count": 0,
   "metadata": {
    "application/vnd.databricks.v1+cell": {
     "cellMetadata": {
      "byteLimit": 2048000,
      "rowLimit": 10000
     },
     "inputWidgets": {},
     "nuid": "f893c328-4a16-4a7f-addf-50dd605a6396",
     "showTitle": false,
     "title": ""
    }
   },
   "outputs": [
    {
     "output_type": "display_data",
     "data": {
      "text/html": [
       "<style scoped>\n",
       "  .ansiout {\n",
       "    display: block;\n",
       "    unicode-bidi: embed;\n",
       "    white-space: pre-wrap;\n",
       "    word-wrap: break-word;\n",
       "    word-break: break-all;\n",
       "    font-family: \"Source Code Pro\", \"Menlo\", monospace;;\n",
       "    font-size: 13px;\n",
       "    color: #555;\n",
       "    margin-left: 4px;\n",
       "    line-height: 19px;\n",
       "  }\n",
       "</style>\n",
       "<div class=\"ansiout\"></div>"
      ]
     },
     "metadata": {
      "application/vnd.databricks.v1+output": {
       "addedWidgets": {},
       "arguments": {},
       "data": "<div class=\"ansiout\"></div>",
       "datasetInfos": [],
       "metadata": {},
       "removedWidgets": [],
       "type": "html"
      }
     },
     "output_type": "display_data"
    }
   ],
   "source": [
    "inv_fct_df= spark.sql(\"\"\"SELECT * FROM union_table fact WHERE fact.complex_decomposition in (\"C\", \"S\") AND (\n",
    "    fact.msu_total_plant_stock != 0\n",
    "    or fact.msu_mrp_available_csp_agg != 0\n",
    "    or fact.msu_safety_stock != 0\n",
    "    or fact.usd_total_plant_stock != 0\n",
    "    or fact.usd_mrp_available_csp_agg != 0\n",
    "    or fact.usd_safety_stock != 0\n",
    "  ) \n",
    "    AND calendar_date BETWEEN CAST( DATEADD(YEAR, -2, current_date) AS DATE) AND current_date\n",
    "  \"\"\")"
   ]
  },
  {
   "cell_type": "code",
   "execution_count": 0,
   "metadata": {
    "application/vnd.databricks.v1+cell": {
     "cellMetadata": {
      "byteLimit": 2048000,
      "rowLimit": 10000
     },
     "inputWidgets": {},
     "nuid": "01429780-7c4f-4128-b578-d195129934fa",
     "showTitle": false,
     "title": ""
    }
   },
   "outputs": [
    {
     "output_type": "display_data",
     "data": {
      "text/html": [
       "<style scoped>\n",
       "  .ansiout {\n",
       "    display: block;\n",
       "    unicode-bidi: embed;\n",
       "    white-space: pre-wrap;\n",
       "    word-wrap: break-word;\n",
       "    word-break: break-all;\n",
       "    font-family: \"Source Code Pro\", \"Menlo\", monospace;;\n",
       "    font-size: 13px;\n",
       "    color: #555;\n",
       "    margin-left: 4px;\n",
       "    line-height: 19px;\n",
       "  }\n",
       "</style>\n",
       "<div class=\"ansiout\"></div>"
      ]
     },
     "metadata": {
      "application/vnd.databricks.v1+output": {
       "addedWidgets": {},
       "arguments": {},
       "data": "<div class=\"ansiout\"></div>",
       "datasetInfos": [],
       "metadata": {},
       "removedWidgets": [],
       "type": "html"
      }
     },
     "output_type": "display_data"
    },
    {
     "output_type": "display_data",
     "data": {
      "text/html": [
       "<style scoped>\n",
       "  .ansiout {\n",
       "    display: block;\n",
       "    unicode-bidi: embed;\n",
       "    white-space: pre-wrap;\n",
       "    word-wrap: break-word;\n",
       "    word-break: break-all;\n",
       "    font-family: \"Source Code Pro\", \"Menlo\", monospace;;\n",
       "    font-size: 13px;\n",
       "    color: #555;\n",
       "    margin-left: 4px;\n",
       "    line-height: 19px;\n",
       "  }\n",
       "</style>"
      ]
     },
     "metadata": {
      "application/vnd.databricks.v1+output": {
       "arguments": {},
       "data": "",
       "errorSummary": "Cancelled",
       "errorTraceType": "html",
       "metadata": {},
       "type": "ipynbError"
      }
     },
     "output_type": "display_data"
    }
   ],
   "source": [
    "inv_fct_df.count()"
   ]
  },
  {
   "cell_type": "code",
   "execution_count": 0,
   "metadata": {
    "application/vnd.databricks.v1+cell": {
     "cellMetadata": {
      "byteLimit": 2048000,
      "rowLimit": 10000
     },
     "inputWidgets": {},
     "nuid": "41c95a00-a4ec-4fa9-bafe-9d1f9e2a66cf",
     "showTitle": false,
     "title": ""
    }
   },
   "outputs": [
    {
     "output_type": "display_data",
     "data": {
      "text/html": [
       "<style scoped>\n",
       "  .ansiout {\n",
       "    display: block;\n",
       "    unicode-bidi: embed;\n",
       "    white-space: pre-wrap;\n",
       "    word-wrap: break-word;\n",
       "    word-break: break-all;\n",
       "    font-family: \"Source Code Pro\", \"Menlo\", monospace;;\n",
       "    font-size: 13px;\n",
       "    color: #555;\n",
       "    margin-left: 4px;\n",
       "    line-height: 19px;\n",
       "  }\n",
       "</style>"
      ]
     },
     "metadata": {
      "application/vnd.databricks.v1+output": {
       "arguments": {},
       "data": "",
       "errorSummary": "Command skipped",
       "errorTraceType": "html",
       "metadata": {},
       "type": "ipynbError"
      }
     },
     "output_type": "display_data"
    }
   ],
   "source": [
    "# Test "
   ]
  },
  {
   "cell_type": "code",
   "execution_count": 0,
   "metadata": {
    "application/vnd.databricks.v1+cell": {
     "cellMetadata": {
      "byteLimit": 2048000,
      "rowLimit": 10000
     },
     "inputWidgets": {},
     "nuid": "1499b98d-db62-4123-988c-66f82f0e56ef",
     "showTitle": false,
     "title": ""
    }
   },
   "outputs": [
    {
     "output_type": "display_data",
     "data": {
      "text/html": [
       "<style scoped>\n",
       "  .ansiout {\n",
       "    display: block;\n",
       "    unicode-bidi: embed;\n",
       "    white-space: pre-wrap;\n",
       "    word-wrap: break-word;\n",
       "    word-break: break-all;\n",
       "    font-family: \"Source Code Pro\", \"Menlo\", monospace;;\n",
       "    font-size: 13px;\n",
       "    color: #555;\n",
       "    margin-left: 4px;\n",
       "    line-height: 19px;\n",
       "  }\n",
       "</style>"
      ]
     },
     "metadata": {
      "application/vnd.databricks.v1+output": {
       "arguments": {},
       "data": "",
       "errorSummary": "Command skipped",
       "errorTraceType": "html",
       "metadata": {},
       "type": "ipynbError"
      }
     },
     "output_type": "display_data"
    }
   ],
   "source": [
    "inv_fct_df.createOrReplaceTempView(\"stg_inv_fct\") "
   ]
  },
  {
   "cell_type": "code",
   "execution_count": 0,
   "metadata": {
    "application/vnd.databricks.v1+cell": {
     "cellMetadata": {
      "byteLimit": 2048000,
      "rowLimit": 10000
     },
     "inputWidgets": {},
     "nuid": "98a20aeb-0363-49aa-a31d-c3e4a52d2f05",
     "showTitle": false,
     "title": ""
    }
   },
   "outputs": [
    {
     "output_type": "display_data",
     "data": {
      "text/html": [
       "<style scoped>\n",
       "  .ansiout {\n",
       "    display: block;\n",
       "    unicode-bidi: embed;\n",
       "    white-space: pre-wrap;\n",
       "    word-wrap: break-word;\n",
       "    word-break: break-all;\n",
       "    font-family: \"Source Code Pro\", \"Menlo\", monospace;;\n",
       "    font-size: 13px;\n",
       "    color: #555;\n",
       "    margin-left: 4px;\n",
       "    line-height: 19px;\n",
       "  }\n",
       "</style>"
      ]
     },
     "metadata": {
      "application/vnd.databricks.v1+output": {
       "arguments": {},
       "data": "",
       "errorSummary": "Command skipped",
       "errorTraceType": "html",
       "metadata": {},
       "type": "ipynbError"
      }
     },
     "output_type": "display_data"
    }
   ],
   "source": [
    "#daily"
   ]
  },
  {
   "cell_type": "code",
   "execution_count": 0,
   "metadata": {
    "application/vnd.databricks.v1+cell": {
     "cellMetadata": {
      "byteLimit": 2048000,
      "implicitDf": true,
      "rowLimit": 10000
     },
     "inputWidgets": {},
     "nuid": "c118fde4-33ac-4cb9-918a-f0a787c67ca1",
     "showTitle": false,
     "title": ""
    }
   },
   "outputs": [
    {
     "output_type": "display_data",
     "data": {
      "text/html": [
       "<style scoped>\n",
       "  .ansiout {\n",
       "    display: block;\n",
       "    unicode-bidi: embed;\n",
       "    white-space: pre-wrap;\n",
       "    word-wrap: break-word;\n",
       "    word-break: break-all;\n",
       "    font-family: \"Source Code Pro\", \"Menlo\", monospace;;\n",
       "    font-size: 13px;\n",
       "    color: #555;\n",
       "    margin-left: 4px;\n",
       "    line-height: 19px;\n",
       "  }\n",
       "</style>"
      ]
     },
     "metadata": {
      "application/vnd.databricks.v1+output": {
       "arguments": {},
       "data": "",
       "errorSummary": "Command skipped",
       "errorTraceType": "html",
       "metadata": {},
       "type": "ipynbError"
      }
     },
     "output_type": "display_data"
    }
   ],
   "source": [
    "daily_stg_output_df = spark.sql(\"\"\"select\n",
    "  fact.calendar_date,\n",
    "  fact.calendar_year_month,\n",
    "  \"\" as `fact.material`,\n",
    "  \"\" as `matl.material_text`,\n",
    "  matl.material_group,\n",
    "  matl.material_group_text,\n",
    "  matl.material_type,\n",
    "  matl.segment,\n",
    "  matl.global_market_segment,\n",
    "  matl_dim.apo_logical_product_as,\n",
    "  matl_dim.apo_logical_product_eu,\n",
    "  matl_dim.apo_logical_product_la,\n",
    "  matl_dim.apo_logical_product_na,\n",
    "  matl_dim.sop_family_as,\n",
    "  matl_dim.sop_family_eu,\n",
    "  matl_dim.sop_family_la,\n",
    "  matl_dim.sop_family_na,\n",
    "  val.material_type_derived,\n",
    "  val.material_type_derived_text,\n",
    "  -- rds.prod_7_long_name,\n",
    "  tdc.tdc_val_text,\n",
    "  tdc.category,\n",
    "  fact.complex_decomposition,\n",
    "  fact.region,\n",
    "  \"\" as `plant`,\n",
    "  \"\" as `plant_text`,\n",
    "  \"\" as `country`,\n",
    "  \"\" as `country_text`,\n",
    "  \"\" as `geographic_group`,\n",
    "  \"isc_daily\" as `data_type`,\n",
    "  \n",
    "  sum(fact.msu_total_plant_stock) as `msu_total_plant_stock`,\n",
    "  sum(fact.msu_mrp_available_csp_agg) as `msu_mrp_available_csp_agg`,\n",
    "  sum(fact.msu_safety_stock) as `msu_safety_stock`,\n",
    "  sum(fact.msu_quality_inspection) as `msu_quality_inspection`,\n",
    "  sum(fact.msu_stock_in_transit) as `msu_stock_in_transit`,\n",
    "  \n",
    "  sum(fact.usd_total_plant_stock) as `usd_total_plant_stock`,\n",
    "  sum(fact.usd_mrp_available_csp_agg) as `usd_mrp_available_csp_agg`,\n",
    "  sum(fact.usd_safety_stock) as `usd_safety_stock`,\n",
    "  sum(fact.usd_quality_inspection) as `usd_quality_inspection`,\n",
    "  sum(fact.usd_stock_in_transit) as `usd_stock_in_transit`,\n",
    "  \n",
    "  sum(fact.raw_total_plant_stock * ifnull(conv.pyjune_factor, 1)) as `usd_total_plant_stock_py_june_30_rate`,\n",
    "  sum(fact.raw_mrp_available_csp_agg * ifnull(conv.pyjune_factor, 1)) as `usd_mrp_available_csp_agg_py_june_30_rate`,\n",
    "  sum(fact.raw_safety_stock * ifnull(conv.pyjune_factor, 1)) as `usd_safety_stock_py_june_30_rate`,  \n",
    "  sum(fact.raw_quality_inspection * ifnull(conv.pyjune_factor, 1)) as `usd_quality_inspection_py_june_30_rate`,\n",
    "  sum(fact.raw_stock_in_transit * ifnull(conv.pyjune_factor, 1)) as `usd_stock_in_transit_py_june_30_rate`,\n",
    "  \n",
    "  sum(fact.buom_total_plant_stock) as `buom_total_plant_stock`,\n",
    "  0 as `target`\n",
    "  , 0 as `actual_usd`\n",
    "  , 0 as `ff_target_usd`\n",
    "  , \"\" as `ff_version`,\n",
    "  tdc.subsector,\n",
    "  fact.fct_type\n",
    "from\n",
    "  stg_inv_fct fact\n",
    "  join dp_inventory.tdc_val_dim tdc on fact.tdc_val = tdc.tdc_val\n",
    "  and tdc.subsector in (\"FABRICCARE\",\"HOMECARE\")\n",
    "  join dp_inventory.matl_dim matl on fact.material = matl.material\n",
    "  join dp_inventory.val_class_dim val on fact.valuation_class = val.valuation_class\n",
    "  join dp_inventory.matl_dim matl_dim on fact.material = matl_dim.material\n",
    "  left join dp_inventory.conversion_dim conv on fact.currency_key =conv.currency_key\n",
    "  -- left join rds.prod_hier_dim rds on rds.prod_19_id = right(fact.material, 8)\n",
    "  --and rds.prod_hier_id = \"710\"\n",
    "  -- and rds.curr_ind = \"Y\"\n",
    "  left join dp_inventory.plant_dim plant_d on fact.plant =plant_d.plant\n",
    "where\n",
    "  -- fact.calendar_year_month >= \"2021-07\"\n",
    "  -- and fact.complex_decomposition in (\"C\", \"S\")\n",
    "  -- and (\n",
    "  --   fact.msu_total_plant_stock != 0\n",
    "  --   or fact.msu_mrp_available_csp_agg != 0\n",
    "  --   or fact.msu_safety_stock != 0\n",
    "  --   or fact.usd_total_plant_stock != 0\n",
    "  --   or fact.usd_mrp_available_csp_agg != 0\n",
    "  --   or fact.usd_safety_stock != 0\n",
    "  -- )\n",
    "  -- and \n",
    "  ifnull(plant_d.joint_venture_flag, \"\") <> \"JV\"\n",
    "group by\n",
    "  fact.calendar_date,\n",
    "  fact.calendar_year_month,\n",
    "  matl.material_group,\n",
    "  matl.material_group_text,\n",
    "  matl.material_type,\n",
    "  matl.segment,\n",
    "  matl.global_market_segment,\n",
    "  matl_dim.apo_logical_product_as,\n",
    "  matl_dim.apo_logical_product_eu,\n",
    "  matl_dim.apo_logical_product_la,\n",
    "  matl_dim.apo_logical_product_na,\n",
    "  matl_dim.sop_family_as,\n",
    "  matl_dim.sop_family_eu,\n",
    "  matl_dim.sop_family_la,\n",
    "  matl_dim.sop_family_na,\n",
    "  val.material_type_derived,\n",
    "  val.material_type_derived_text,\n",
    "  -- rds.prod_7_long_name,\n",
    "  fact.tdc_val,\n",
    "  tdc.tdc_val_text,\n",
    "  tdc.category,\n",
    "  fact.complex_decomposition,\n",
    "  fact.region,\n",
    "  tdc.subsector,\n",
    "  fact.fct_type \"\"\")"
   ]
  },
  {
   "cell_type": "code",
   "execution_count": 0,
   "metadata": {
    "application/vnd.databricks.v1+cell": {
     "cellMetadata": {
      "byteLimit": 2048000,
      "rowLimit": 10000
     },
     "inputWidgets": {},
     "nuid": "03e827ce-e189-46c3-a6e2-f8f60ba068a9",
     "showTitle": false,
     "title": ""
    }
   },
   "outputs": [
    {
     "output_type": "display_data",
     "data": {
      "text/html": [
       "<style scoped>\n",
       "  .ansiout {\n",
       "    display: block;\n",
       "    unicode-bidi: embed;\n",
       "    white-space: pre-wrap;\n",
       "    word-wrap: break-word;\n",
       "    word-break: break-all;\n",
       "    font-family: \"Source Code Pro\", \"Menlo\", monospace;;\n",
       "    font-size: 13px;\n",
       "    color: #555;\n",
       "    margin-left: 4px;\n",
       "    line-height: 19px;\n",
       "  }\n",
       "</style>"
      ]
     },
     "metadata": {
      "application/vnd.databricks.v1+output": {
       "arguments": {},
       "data": "",
       "errorSummary": "Command skipped",
       "errorTraceType": "html",
       "metadata": {},
       "type": "ipynbError"
      }
     },
     "output_type": "display_data"
    }
   ],
   "source": [
    "#monthly"
   ]
  },
  {
   "cell_type": "code",
   "execution_count": 0,
   "metadata": {
    "application/vnd.databricks.v1+cell": {
     "cellMetadata": {
      "byteLimit": 2048000,
      "rowLimit": 10000
     },
     "inputWidgets": {},
     "nuid": "cbf11475-a13c-441c-9351-27585a3c426d",
     "showTitle": false,
     "title": ""
    }
   },
   "outputs": [
    {
     "output_type": "display_data",
     "data": {
      "text/html": [
       "<style scoped>\n",
       "  .ansiout {\n",
       "    display: block;\n",
       "    unicode-bidi: embed;\n",
       "    white-space: pre-wrap;\n",
       "    word-wrap: break-word;\n",
       "    word-break: break-all;\n",
       "    font-family: \"Source Code Pro\", \"Menlo\", monospace;;\n",
       "    font-size: 13px;\n",
       "    color: #555;\n",
       "    margin-left: 4px;\n",
       "    line-height: 19px;\n",
       "  }\n",
       "</style>"
      ]
     },
     "metadata": {
      "application/vnd.databricks.v1+output": {
       "arguments": {},
       "data": "",
       "errorSummary": "Command skipped",
       "errorTraceType": "html",
       "metadata": {},
       "type": "ipynbError"
      }
     },
     "output_type": "display_data"
    }
   ],
   "source": [
    "monthly_stg_df=spark.sql(\"\"\"select\n",
    "  fact.calendar_date,\n",
    "  fact.calendar_year_month,\n",
    "  fact.material,\n",
    "  matl.material_text,\n",
    "  matl.material_group_text,\n",
    "  matl.material_type,\n",
    "  matl.segment,\n",
    "  matl.global_market_segment,\n",
    "  matl_dim.apo_logical_product_as,\n",
    "  matl_dim.apo_logical_product_eu,\n",
    "  matl_dim.apo_logical_product_la,\n",
    "  matl_dim.apo_logical_product_na,\n",
    "  matl_dim.sop_family_as,\n",
    "  matl_dim.sop_family_eu,\n",
    "  matl_dim.sop_family_la,\n",
    "  matl_dim.sop_family_na,\n",
    "  val.material_type_derived,\n",
    "  val.material_type_derived_text,\n",
    "  -- rds.prod_7_long_name,\n",
    "  tdc.tdc_val_text,\n",
    "  tdc.category,\n",
    "  fact.complex_decomposition,\n",
    "  fact.region,\n",
    "  plant_d.plant,\n",
    "  plant_d.plant_text,\n",
    "  plant_d.country,\n",
    "  plant_d.country_text,\n",
    "  plant_d.geographic_group,\n",
    "  -- \"isc_monthly\" as `data_type`,\n",
    "  CASE WHEN fact.calendar_date IN (\n",
    "  select\n",
    "      max(calendar_date)\n",
    "    from\n",
    "      stg_inv_fct\n",
    "    group by\n",
    "      calendar_year_month\n",
    "  ) THEN 'isc_monthly'\n",
    "  WHEN fact.calendar_year_month IN (\n",
    "    select\n",
    "      max(calendar_year_month)\n",
    "    from\n",
    "      stg_inv_fct\n",
    "  ) THEN 'isc_current_month'\n",
    "  WHEN fact.calendar_year_month in (\n",
    "    select\n",
    "      max( concat( year( date_trunc('MM', date_add( date_trunc('MM', calendar_date), -1))),\n",
    "      '-',\n",
    "      case\n",
    "      when month(date_trunc('MM', date_add( date_trunc('MM', calendar_date), -1))) < 10 then '0'\n",
    "            else ''\n",
    "          end,\n",
    "          month( date_trunc('MM', date_add( date_trunc('MM', calendar_date), -1)))))\n",
    "    from\n",
    "      stg_inv_fct\n",
    "  ) THEN 'isc_previous_month'\n",
    "  END as `data_type`,\n",
    "fact.msu_total_plant_stock,\n",
    "fact.msu_mrp_available_csp_agg,\n",
    "fact.msu_safety_stock,\n",
    "fact.msu_quality_inspection,\n",
    "fact.msu_stock_in_transit,\n",
    "fact.usd_total_plant_stock,\n",
    "fact.usd_mrp_available_csp_agg,\n",
    "fact.usd_safety_stock,\n",
    "fact.usd_quality_inspection,\n",
    "fact.usd_stock_in_transit,\n",
    "fact.raw_total_plant_stock,\n",
    "fact.raw_mrp_available_csp_agg,\n",
    "fact.raw_safety_stock,\n",
    "fact.raw_quality_inspection,\n",
    "fact.raw_stock_in_transit,\n",
    "fact.buom_total_plant_stock,\n",
    "conv.pyjune_factor,\n",
    "matl.material_group,\n",
    "fact.tdc_val,\n",
    "tdc.subsector,\n",
    "fact.fct_type\n",
    "from\n",
    "  stg_inv_fct fact\n",
    "  join dp_inventory.tdc_val_dim tdc on fact.tdc_val = tdc.tdc_val\n",
    "  and tdc.subsector in (\"FABRICCARE\",\"HOMECARE\") \n",
    "  join dp_inventory.matl_dim matl on fact.material = matl.material\n",
    "  join dp_inventory.val_class_dim val on fact.valuation_class = val.valuation_class\n",
    "  join dp_inventory.matl_dim matl_dim on fact.material = matl_dim.material\n",
    "  left join dp_inventory.conversion_dim conv on fact.currency_key = conv.currency_key\n",
    "  -- left join rds.prod_hier_dim rds on rds.prod_19_id = right(fact.material, 8)\n",
    "  --and rds.prod_hier_id = \"710\"\n",
    "  -- and rds.curr_ind = \"Y\"\n",
    "  left join dp_inventory.plant_dim plant_d on fact.plant = plant_d.plant\n",
    "where\n",
    "  -- and fact.complex_decomposition in (\"C\", \"S\")\n",
    "  -- and (\n",
    "  --   fact.msu_total_plant_stock != 0\n",
    "  --   or fact.msu_mrp_available_csp_agg != 0\n",
    "  --   or fact.msu_safety_stock != 0\n",
    "  --   or fact.usd_total_plant_stock != 0\n",
    "  --   or fact.usd_mrp_available_csp_agg != 0\n",
    "  --   or fact.usd_safety_stock != 0\n",
    "  -- )\n",
    "  --and \n",
    "  ifnull(plant_d.joint_venture_flag, \"\") <> \"JV\"\n",
    "\"\"\")"
   ]
  },
  {
   "cell_type": "code",
   "execution_count": 0,
   "metadata": {
    "application/vnd.databricks.v1+cell": {
     "cellMetadata": {
      "byteLimit": 2048000,
      "rowLimit": 10000
     },
     "inputWidgets": {},
     "nuid": "8e02f9aa-2c01-4905-bd50-9a19f75ce828",
     "showTitle": false,
     "title": ""
    }
   },
   "outputs": [
    {
     "output_type": "display_data",
     "data": {
      "text/html": [
       "<style scoped>\n",
       "  .ansiout {\n",
       "    display: block;\n",
       "    unicode-bidi: embed;\n",
       "    white-space: pre-wrap;\n",
       "    word-wrap: break-word;\n",
       "    word-break: break-all;\n",
       "    font-family: \"Source Code Pro\", \"Menlo\", monospace;;\n",
       "    font-size: 13px;\n",
       "    color: #555;\n",
       "    margin-left: 4px;\n",
       "    line-height: 19px;\n",
       "  }\n",
       "</style>"
      ]
     },
     "metadata": {
      "application/vnd.databricks.v1+output": {
       "arguments": {},
       "data": "",
       "errorSummary": "Command skipped",
       "errorTraceType": "html",
       "metadata": {},
       "type": "ipynbError"
      }
     },
     "output_type": "display_data"
    }
   ],
   "source": [
    "monthly_stg_df.createOrReplaceTempView(\"stg_ouput\") "
   ]
  },
  {
   "cell_type": "code",
   "execution_count": 0,
   "metadata": {
    "application/vnd.databricks.v1+cell": {
     "cellMetadata": {
      "byteLimit": 2048000,
      "rowLimit": 10000
     },
     "inputWidgets": {},
     "nuid": "e50f4e3a-a2b2-4ba4-8816-cc15aee4e8d0",
     "showTitle": false,
     "title": ""
    }
   },
   "outputs": [
    {
     "output_type": "display_data",
     "data": {
      "text/html": [
       "<style scoped>\n",
       "  .ansiout {\n",
       "    display: block;\n",
       "    unicode-bidi: embed;\n",
       "    white-space: pre-wrap;\n",
       "    word-wrap: break-word;\n",
       "    word-break: break-all;\n",
       "    font-family: \"Source Code Pro\", \"Menlo\", monospace;;\n",
       "    font-size: 13px;\n",
       "    color: #555;\n",
       "    margin-left: 4px;\n",
       "    line-height: 19px;\n",
       "  }\n",
       "</style>"
      ]
     },
     "metadata": {
      "application/vnd.databricks.v1+output": {
       "arguments": {},
       "data": "",
       "errorSummary": "Command skipped",
       "errorTraceType": "html",
       "metadata": {},
       "type": "ipynbError"
      }
     },
     "output_type": "display_data"
    }
   ],
   "source": [
    "monthly_stg_ouput_df=spark.sql(\"\"\"select\n",
    "  calendar_date,\n",
    "  calendar_year_month,\n",
    "  material,\n",
    "  material_text,\n",
    "  material_group_text,\n",
    "  material_type,\n",
    "  segment,\n",
    "  global_market_segment,\n",
    "  apo_logical_product_as,\n",
    "  apo_logical_product_eu,\n",
    "  apo_logical_product_la,\n",
    "  apo_logical_product_na,\n",
    "  sop_family_as,\n",
    "  sop_family_eu,\n",
    "  sop_family_la,\n",
    "  sop_family_na,\n",
    "  material_type_derived,\n",
    "  material_type_derived_text,\n",
    "  -- prod_7_long_name,\n",
    "  tdc_val_text,\n",
    "  category,\n",
    "  complex_decomposition,\n",
    "  region,\n",
    "  plant,\n",
    "  plant_text,\n",
    "  country,\n",
    "  country_text,\n",
    "  geographic_group,\n",
    "  max(data_type) as data_type,\n",
    "  \n",
    "  sum(msu_total_plant_stock) as `msu_total_plant_stock`,\n",
    "  sum(msu_mrp_available_csp_agg) as `msu_mrp_available_csp_agg`,\n",
    "  sum(msu_safety_stock) as `msu_safety_stock`,\n",
    "  sum(msu_quality_inspection) as `msu_quality_inspection`,\n",
    "  sum(msu_stock_in_transit) as `msu_stock_in_transit`,\n",
    "  \n",
    "  sum(usd_total_plant_stock) as `usd_total_plant_stock`,\n",
    "  sum(usd_mrp_available_csp_agg) as `usd_mrp_available_csp_agg`,\n",
    "  sum(usd_safety_stock) as `usd_safety_stock`,\n",
    "  sum(usd_quality_inspection) as `usd_quality_inspection`,\n",
    "  sum(usd_stock_in_transit) as `usd_stock_in_transit`,\n",
    "  \n",
    "  sum(raw_total_plant_stock * ifnull(pyjune_factor, 1)) as `usd_total_plant_stock_py_june_30_rate`,\n",
    "  sum(raw_mrp_available_csp_agg * ifnull(pyjune_factor, 1)) as `usd_mrp_available_csp_agg_py_june_30_rate`,\n",
    "  sum(raw_safety_stock * ifnull(pyjune_factor, 1)) as `usd_safety_stock_py_june_30_rate`,  \n",
    "  sum(raw_quality_inspection * ifnull(pyjune_factor, 1)) as `usd_quality_inspection_py_june_30_rate`,\n",
    "  sum(raw_stock_in_transit * ifnull(pyjune_factor, 1)) as `usd_stock_in_transit_py_june_30_rate`,\n",
    "  sum(buom_total_plant_stock) as `buom_total_plant_stock`,\n",
    "  0 as `target`,\n",
    "  0 as `actual_usd`,\n",
    "  0 as `ff_target_usd`,\n",
    "  \"\" as `ff_version`,\n",
    "  subsector,\n",
    "  fct_type\n",
    "from\n",
    "stg_ouput\n",
    "group by\n",
    "  calendar_date,\n",
    "  calendar_year_month,\n",
    "  material,\n",
    "  material_text,\n",
    "  material_group,\n",
    "  material_group_text,\n",
    "  material_type,\n",
    "  segment,\n",
    "  global_market_segment,\n",
    "  apo_logical_product_as,\n",
    "  apo_logical_product_eu,\n",
    "  apo_logical_product_la,\n",
    "  apo_logical_product_na,\n",
    "  sop_family_as,\n",
    "  sop_family_eu,\n",
    "  sop_family_la,\n",
    "  sop_family_na,\n",
    "  material_type_derived,\n",
    "  material_type_derived_text,\n",
    "  -- prod_7_long_name,\n",
    "  tdc_val,\n",
    "  tdc_val_text,\n",
    "  category,\n",
    "  complex_decomposition,\n",
    "  region,\n",
    "  plant,\n",
    "  plant_text,\n",
    "  country,\n",
    "  country_text,\n",
    "  geographic_group,\n",
    "  subsector,\n",
    "  fct_type\n",
    "  \"\"\")"
   ]
  },
  {
   "cell_type": "code",
   "execution_count": 0,
   "metadata": {
    "application/vnd.databricks.v1+cell": {
     "cellMetadata": {
      "byteLimit": 2048000,
      "rowLimit": 10000
     },
     "inputWidgets": {},
     "nuid": "2ec9fb13-45fc-401f-bd64-32abc20c2472",
     "showTitle": false,
     "title": ""
    }
   },
   "outputs": [
    {
     "output_type": "display_data",
     "data": {
      "text/html": [
       "<style scoped>\n",
       "  .ansiout {\n",
       "    display: block;\n",
       "    unicode-bidi: embed;\n",
       "    white-space: pre-wrap;\n",
       "    word-wrap: break-word;\n",
       "    word-break: break-all;\n",
       "    font-family: \"Source Code Pro\", \"Menlo\", monospace;;\n",
       "    font-size: 13px;\n",
       "    color: #555;\n",
       "    margin-left: 4px;\n",
       "    line-height: 19px;\n",
       "  }\n",
       "</style>"
      ]
     },
     "metadata": {
      "application/vnd.databricks.v1+output": {
       "arguments": {},
       "data": "",
       "errorSummary": "Command skipped",
       "errorTraceType": "html",
       "metadata": {},
       "type": "ipynbError"
      }
     },
     "output_type": "display_data"
    }
   ],
   "source": [
    "# from pyspark import *\n",
    "# from pyspark.sql.functions import *"
   ]
  },
  {
   "cell_type": "code",
   "execution_count": 0,
   "metadata": {
    "application/vnd.databricks.v1+cell": {
     "cellMetadata": {
      "byteLimit": 2048000,
      "rowLimit": 10000
     },
     "inputWidgets": {},
     "nuid": "21363a17-cdbb-4adc-bb0b-21486437e6ba",
     "showTitle": false,
     "title": ""
    }
   },
   "outputs": [
    {
     "output_type": "display_data",
     "data": {
      "text/html": [
       "<style scoped>\n",
       "  .ansiout {\n",
       "    display: block;\n",
       "    unicode-bidi: embed;\n",
       "    white-space: pre-wrap;\n",
       "    word-wrap: break-word;\n",
       "    word-break: break-all;\n",
       "    font-family: \"Source Code Pro\", \"Menlo\", monospace;;\n",
       "    font-size: 13px;\n",
       "    color: #555;\n",
       "    margin-left: 4px;\n",
       "    line-height: 19px;\n",
       "  }\n",
       "</style>"
      ]
     },
     "metadata": {
      "application/vnd.databricks.v1+output": {
       "arguments": {},
       "data": "",
       "errorSummary": "Command skipped",
       "errorTraceType": "html",
       "metadata": {},
       "type": "ipynbError"
      }
     },
     "output_type": "display_data"
    }
   ],
   "source": [
    "from functools import reduce\n",
    "from pyspark.sql import DataFrame\n",
    "\n",
    "dfs = [monthly_stg_ouput_df,daily_stg_output_df]\n",
    "stg_ouput_df = reduce(lambda x, y: x.unionByName(y, allowMissingColumns=True), dfs)"
   ]
  },
  {
   "cell_type": "code",
   "execution_count": 0,
   "metadata": {
    "application/vnd.databricks.v1+cell": {
     "cellMetadata": {
      "byteLimit": 2048000,
      "rowLimit": 10000
     },
     "inputWidgets": {},
     "nuid": "dfdfb5df-4e7d-4729-b001-e486b0f990c7",
     "showTitle": false,
     "title": ""
    }
   },
   "outputs": [
    {
     "output_type": "display_data",
     "data": {
      "text/html": [
       "<style scoped>\n",
       "  .ansiout {\n",
       "    display: block;\n",
       "    unicode-bidi: embed;\n",
       "    white-space: pre-wrap;\n",
       "    word-wrap: break-word;\n",
       "    word-break: break-all;\n",
       "    font-family: \"Source Code Pro\", \"Menlo\", monospace;;\n",
       "    font-size: 13px;\n",
       "    color: #555;\n",
       "    margin-left: 4px;\n",
       "    line-height: 19px;\n",
       "  }\n",
       "</style>"
      ]
     },
     "metadata": {
      "application/vnd.databricks.v1+output": {
       "arguments": {},
       "data": "",
       "errorSummary": "Command skipped",
       "errorTraceType": "html",
       "metadata": {},
       "type": "ipynbError"
      }
     },
     "output_type": "display_data"
    }
   ],
   "source": [
    "output_df=stg_ouput_df.repartition(\"fct_type\", \"subsector\",\"data_type\")"
   ]
  },
  {
   "cell_type": "code",
   "execution_count": 0,
   "metadata": {
    "application/vnd.databricks.v1+cell": {
     "cellMetadata": {
      "byteLimit": 2048000,
      "rowLimit": 10000
     },
     "inputWidgets": {},
     "nuid": "353043f9-d4d0-4bc3-a3cc-55c4630911d2",
     "showTitle": false,
     "title": ""
    }
   },
   "outputs": [
    {
     "output_type": "display_data",
     "data": {
      "text/html": [
       "<style scoped>\n",
       "  .ansiout {\n",
       "    display: block;\n",
       "    unicode-bidi: embed;\n",
       "    white-space: pre-wrap;\n",
       "    word-wrap: break-word;\n",
       "    word-break: break-all;\n",
       "    font-family: \"Source Code Pro\", \"Menlo\", monospace;;\n",
       "    font-size: 13px;\n",
       "    color: #555;\n",
       "    margin-left: 4px;\n",
       "    line-height: 19px;\n",
       "  }\n",
       "</style>"
      ]
     },
     "metadata": {
      "application/vnd.databricks.v1+output": {
       "arguments": {},
       "data": "",
       "errorSummary": "Command skipped",
       "errorTraceType": "html",
       "metadata": {},
       "type": "ipynbError"
      }
     },
     "output_type": "display_data"
    }
   ],
   "source": [
    "# output_df.write \\\n",
    "#   .format(\"delta\") \\\n",
    "#   .mode(\"overwrite\") \\\n",
    "#   .option(\"overwriteSchema\", \"true\") \\\n",
    "#   .partitionBy(\"fct_type\", \"subsector\",\"data_type\") \\\n",
    "#   .saveAsTable(\"userdb_saravana_sk.fabric_care_isc_global\")"
   ]
  },
  {
   "cell_type": "code",
   "execution_count": 0,
   "metadata": {
    "application/vnd.databricks.v1+cell": {
     "cellMetadata": {
      "byteLimit": 2048000,
      "rowLimit": 10000
     },
     "inputWidgets": {},
     "nuid": "5de5ee76-0127-4842-af67-8eac475ee540",
     "showTitle": true,
     "title": "Added by Kyle"
    }
   },
   "outputs": [
    {
     "output_type": "display_data",
     "data": {
      "text/html": [
       "<style scoped>\n",
       "  .ansiout {\n",
       "    display: block;\n",
       "    unicode-bidi: embed;\n",
       "    white-space: pre-wrap;\n",
       "    word-wrap: break-word;\n",
       "    word-break: break-all;\n",
       "    font-family: \"Source Code Pro\", \"Menlo\", monospace;;\n",
       "    font-size: 13px;\n",
       "    color: #555;\n",
       "    margin-left: 4px;\n",
       "    line-height: 19px;\n",
       "  }\n",
       "</style>"
      ]
     },
     "metadata": {
      "application/vnd.databricks.v1+output": {
       "arguments": {},
       "data": "",
       "errorSummary": "Command skipped",
       "errorTraceType": "html",
       "metadata": {},
       "type": "ipynbError"
      }
     },
     "output_type": "display_data"
    }
   ],
   "source": [
    "# output_df.write \\\n",
    "#   .format(\"delta\") \\\n",
    "#   .mode(\"overwrite\") \\\n",
    "#   .option(\"overwriteSchema\", \"true\") \\\n",
    "#   .partitionBy(\"fct_type\", \"subsector\",\"data_type\") \\\n",
    "#   .saveAsTable(\"groupdb_fhc_eng_analytics.fhc_isc_global\") "
   ]
  },
  {
   "cell_type": "code",
   "execution_count": 0,
   "metadata": {
    "application/vnd.databricks.v1+cell": {
     "cellMetadata": {
      "byteLimit": 2048000,
      "implicitDf": true,
      "rowLimit": 10000
     },
     "inputWidgets": {},
     "nuid": "331f938f-db5d-4c50-ae35-3f76abd02886",
     "showTitle": false,
     "title": ""
    }
   },
   "outputs": [
    {
     "output_type": "display_data",
     "data": {
      "text/html": [
       "<style scoped>\n",
       "  .ansiout {\n",
       "    display: block;\n",
       "    unicode-bidi: embed;\n",
       "    white-space: pre-wrap;\n",
       "    word-wrap: break-word;\n",
       "    word-break: break-all;\n",
       "    font-family: \"Source Code Pro\", \"Menlo\", monospace;;\n",
       "    font-size: 13px;\n",
       "    color: #555;\n",
       "    margin-left: 4px;\n",
       "    line-height: 19px;\n",
       "  }\n",
       "</style>"
      ]
     },
     "metadata": {
      "application/vnd.databricks.v1+output": {
       "arguments": {},
       "data": "",
       "errorSummary": "Command skipped",
       "errorTraceType": "html",
       "metadata": {},
       "type": "ipynbError"
      }
     },
     "output_type": "display_data"
    }
   ],
   "source": [
    "%sql\n",
    "select count(*) from groupdb_fhc_eng_analytics.fhc_isc_global"
   ]
  },
  {
   "cell_type": "code",
   "execution_count": 0,
   "metadata": {
    "application/vnd.databricks.v1+cell": {
     "cellMetadata": {
      "byteLimit": 2048000,
      "rowLimit": 10000
     },
     "inputWidgets": {},
     "nuid": "d9512db6-fbd6-4bbf-bade-c4ceb1477fa9",
     "showTitle": false,
     "title": ""
    }
   },
   "outputs": [
    {
     "output_type": "display_data",
     "data": {
      "text/html": [
       "<style scoped>\n",
       "  .ansiout {\n",
       "    display: block;\n",
       "    unicode-bidi: embed;\n",
       "    white-space: pre-wrap;\n",
       "    word-wrap: break-word;\n",
       "    word-break: break-all;\n",
       "    font-family: \"Source Code Pro\", \"Menlo\", monospace;;\n",
       "    font-size: 13px;\n",
       "    color: #555;\n",
       "    margin-left: 4px;\n",
       "    line-height: 19px;\n",
       "  }\n",
       "</style>"
      ]
     },
     "metadata": {
      "application/vnd.databricks.v1+output": {
       "arguments": {},
       "data": "",
       "errorSummary": "Command skipped",
       "errorTraceType": "html",
       "metadata": {},
       "type": "ipynbError"
      }
     },
     "output_type": "display_data"
    }
   ],
   "source": [
    "#Testing"
   ]
  },
  {
   "cell_type": "code",
   "execution_count": 0,
   "metadata": {
    "application/vnd.databricks.v1+cell": {
     "cellMetadata": {
      "byteLimit": 2048000,
      "rowLimit": 10000
     },
     "inputWidgets": {},
     "nuid": "66c888b5-d1b3-4999-a554-b9951c1c532a",
     "showTitle": false,
     "title": ""
    }
   },
   "outputs": [
    {
     "output_type": "display_data",
     "data": {
      "text/html": [
       "<style scoped>\n",
       "  .ansiout {\n",
       "    display: block;\n",
       "    unicode-bidi: embed;\n",
       "    white-space: pre-wrap;\n",
       "    word-wrap: break-word;\n",
       "    word-break: break-all;\n",
       "    font-family: \"Source Code Pro\", \"Menlo\", monospace;;\n",
       "    font-size: 13px;\n",
       "    color: #555;\n",
       "    margin-left: 4px;\n",
       "    line-height: 19px;\n",
       "  }\n",
       "</style>"
      ]
     },
     "metadata": {
      "application/vnd.databricks.v1+output": {
       "arguments": {},
       "data": "",
       "errorSummary": "Command skipped",
       "errorTraceType": "html",
       "metadata": {},
       "type": "ipynbError"
      }
     },
     "output_type": "display_data"
    }
   ],
   "source": [
    "# from pyspark.sql.functions import *\n",
    "# #& (col(\"subsector\")=='HOMECARE')\n",
    "# daily_stg_output_df.filter((col(\"fct_type\")== 'inv_fct_na') & (col('calendar_year_month') == \"2023-04\"))\\\n",
    "#   .groupBy('calendar_date','subsector').sum('msu_total_plant_stock')\\\n",
    "#     .withColumn('su_total_plant_stock',col('sum(msu_total_plant_stock)')*1000)\\\n",
    "#       .selectExpr('calendar_date','su_total_plant_stock','subsector').sort(col('calendar_date')).display()"
   ]
  },
  {
   "cell_type": "code",
   "execution_count": 0,
   "metadata": {
    "application/vnd.databricks.v1+cell": {
     "cellMetadata": {
      "byteLimit": 2048000,
      "implicitDf": true,
      "rowLimit": 10000
     },
     "inputWidgets": {},
     "nuid": "019e5431-dda7-4a40-ada4-916f8e528e15",
     "showTitle": false,
     "title": ""
    }
   },
   "outputs": [
    {
     "output_type": "display_data",
     "data": {
      "text/html": [
       "<style scoped>\n",
       "  .ansiout {\n",
       "    display: block;\n",
       "    unicode-bidi: embed;\n",
       "    white-space: pre-wrap;\n",
       "    word-wrap: break-word;\n",
       "    word-break: break-all;\n",
       "    font-family: \"Source Code Pro\", \"Menlo\", monospace;;\n",
       "    font-size: 13px;\n",
       "    color: #555;\n",
       "    margin-left: 4px;\n",
       "    line-height: 19px;\n",
       "  }\n",
       "</style>"
      ]
     },
     "metadata": {
      "application/vnd.databricks.v1+output": {
       "arguments": {},
       "data": "",
       "errorSummary": "Command skipped",
       "errorTraceType": "html",
       "metadata": {},
       "type": "ipynbError"
      }
     },
     "output_type": "display_data"
    }
   ],
   "source": [
    "%sql\n",
    "select calendar_date,((sum(msu_total_plant_stock))*1000 ) as su_total_plant_stock,subsector from groupdb_fhc_eng_analytics.fhc_isc_global\n",
    "where fct_type='inv_fct_na' and calendar_year_month=\"2023-04\" and  data_type= \"isc_daily\"\n",
    "group by calendar_date,subsector\n",
    "ORDER BY calendar_date\n"
   ]
  },
  {
   "cell_type": "code",
   "execution_count": 0,
   "metadata": {
    "application/vnd.databricks.v1+cell": {
     "cellMetadata": {
      "byteLimit": 2048000,
      "rowLimit": 10000
     },
     "inputWidgets": {},
     "nuid": "e710a494-df52-48e3-b5c6-aa5865381cfc",
     "showTitle": false,
     "title": ""
    }
   },
   "outputs": [
    {
     "output_type": "display_data",
     "data": {
      "text/html": [
       "<style scoped>\n",
       "  .ansiout {\n",
       "    display: block;\n",
       "    unicode-bidi: embed;\n",
       "    white-space: pre-wrap;\n",
       "    word-wrap: break-word;\n",
       "    word-break: break-all;\n",
       "    font-family: \"Source Code Pro\", \"Menlo\", monospace;;\n",
       "    font-size: 13px;\n",
       "    color: #555;\n",
       "    margin-left: 4px;\n",
       "    line-height: 19px;\n",
       "  }\n",
       "</style>"
      ]
     },
     "metadata": {
      "application/vnd.databricks.v1+output": {
       "arguments": {},
       "data": "",
       "errorSummary": "Command skipped",
       "errorTraceType": "html",
       "metadata": {},
       "type": "ipynbError"
      }
     },
     "output_type": "display_data"
    }
   ],
   "source": [
    "output_df.count()"
   ]
  },
  {
   "cell_type": "code",
   "execution_count": 0,
   "metadata": {
    "application/vnd.databricks.v1+cell": {
     "cellMetadata": {
      "byteLimit": 2048000,
      "rowLimit": 10000
     },
     "inputWidgets": {},
     "nuid": "7b4af1da-af80-45a3-900c-e0755cbe9078",
     "showTitle": false,
     "title": ""
    }
   },
   "outputs": [
    {
     "output_type": "display_data",
     "data": {
      "text/html": [
       "<style scoped>\n",
       "  .ansiout {\n",
       "    display: block;\n",
       "    unicode-bidi: embed;\n",
       "    white-space: pre-wrap;\n",
       "    word-wrap: break-word;\n",
       "    word-break: break-all;\n",
       "    font-family: \"Source Code Pro\", \"Menlo\", monospace;;\n",
       "    font-size: 13px;\n",
       "    color: #555;\n",
       "    margin-left: 4px;\n",
       "    line-height: 19px;\n",
       "  }\n",
       "</style>"
      ]
     },
     "metadata": {
      "application/vnd.databricks.v1+output": {
       "arguments": {},
       "data": "",
       "errorSummary": "Command skipped",
       "errorTraceType": "html",
       "metadata": {},
       "type": "ipynbError"
      }
     },
     "output_type": "display_data"
    }
   ],
   "source": [
    "display(output_df)"
   ]
  },
  {
   "cell_type": "code",
   "execution_count": 0,
   "metadata": {
    "application/vnd.databricks.v1+cell": {
     "cellMetadata": {
      "byteLimit": 2048000,
      "implicitDf": true,
      "rowLimit": 10000
     },
     "inputWidgets": {},
     "nuid": "d6c0fb2e-ddb0-4170-b1c0-f87631db57d3",
     "showTitle": false,
     "title": ""
    }
   },
   "outputs": [
    {
     "output_type": "display_data",
     "data": {
      "text/html": [
       "<style scoped>\n",
       "  .ansiout {\n",
       "    display: block;\n",
       "    unicode-bidi: embed;\n",
       "    white-space: pre-wrap;\n",
       "    word-wrap: break-word;\n",
       "    word-break: break-all;\n",
       "    font-family: \"Source Code Pro\", \"Menlo\", monospace;;\n",
       "    font-size: 13px;\n",
       "    color: #555;\n",
       "    margin-left: 4px;\n",
       "    line-height: 19px;\n",
       "  }\n",
       "</style>"
      ]
     },
     "metadata": {
      "application/vnd.databricks.v1+output": {
       "arguments": {},
       "data": "",
       "errorSummary": "Command skipped",
       "errorTraceType": "html",
       "metadata": {},
       "type": "ipynbError"
      }
     },
     "output_type": "display_data"
    }
   ],
   "source": [
    "%sql\n",
    "SELECT count(*) from userdb_saravana_sk.fabric_care_isc_global"
   ]
  },
  {
   "cell_type": "code",
   "execution_count": 0,
   "metadata": {
    "application/vnd.databricks.v1+cell": {
     "cellMetadata": {
      "byteLimit": 2048000,
      "implicitDf": true,
      "rowLimit": 10000
     },
     "inputWidgets": {},
     "nuid": "178ef7ed-b24b-4c4e-b15d-015bdc1bfd2c",
     "showTitle": false,
     "title": ""
    }
   },
   "outputs": [
    {
     "output_type": "display_data",
     "data": {
      "text/html": [
       "<style scoped>\n",
       "  .ansiout {\n",
       "    display: block;\n",
       "    unicode-bidi: embed;\n",
       "    white-space: pre-wrap;\n",
       "    word-wrap: break-word;\n",
       "    word-break: break-all;\n",
       "    font-family: \"Source Code Pro\", \"Menlo\", monospace;;\n",
       "    font-size: 13px;\n",
       "    color: #555;\n",
       "    margin-left: 4px;\n",
       "    line-height: 19px;\n",
       "  }\n",
       "</style>"
      ]
     },
     "metadata": {
      "application/vnd.databricks.v1+output": {
       "arguments": {},
       "data": "",
       "errorSummary": "Command skipped",
       "errorTraceType": "html",
       "metadata": {},
       "type": "ipynbError"
      }
     },
     "output_type": "display_data"
    }
   ],
   "source": [
    "%sql\n",
    "SELECT * from userdb_nigam_an.fabric_care_isc_global where data_type = 'isc_monthly' AND subsector='FABRICCARE' AND fct_type= 'inv_fct_na'  "
   ]
  },
  {
   "cell_type": "code",
   "execution_count": 0,
   "metadata": {
    "application/vnd.databricks.v1+cell": {
     "cellMetadata": {
      "byteLimit": 2048000,
      "implicitDf": true,
      "rowLimit": 10000
     },
     "inputWidgets": {},
     "nuid": "0476788d-792a-46f5-b930-e0b6deeac846",
     "showTitle": false,
     "title": ""
    }
   },
   "outputs": [
    {
     "output_type": "display_data",
     "data": {
      "text/html": [
       "<style scoped>\n",
       "  .ansiout {\n",
       "    display: block;\n",
       "    unicode-bidi: embed;\n",
       "    white-space: pre-wrap;\n",
       "    word-wrap: break-word;\n",
       "    word-break: break-all;\n",
       "    font-family: \"Source Code Pro\", \"Menlo\", monospace;;\n",
       "    font-size: 13px;\n",
       "    color: #555;\n",
       "    margin-left: 4px;\n",
       "    line-height: 19px;\n",
       "  }\n",
       "</style>"
      ]
     },
     "metadata": {
      "application/vnd.databricks.v1+output": {
       "arguments": {},
       "data": "",
       "errorSummary": "Command skipped",
       "errorTraceType": "html",
       "metadata": {},
       "type": "ipynbError"
      }
     },
     "output_type": "display_data"
    }
   ],
   "source": [
    "%sql\n",
    "SELECT count(*) from userdb_nigam_an.fabric_care_isc_monthly"
   ]
  },
  {
   "cell_type": "code",
   "execution_count": 0,
   "metadata": {
    "application/vnd.databricks.v1+cell": {
     "cellMetadata": {
      "byteLimit": 2048000,
      "implicitDf": true,
      "rowLimit": 10000
     },
     "inputWidgets": {},
     "nuid": "1ec5353f-76ed-4a68-a5ac-7e0b88b070ec",
     "showTitle": false,
     "title": ""
    }
   },
   "outputs": [
    {
     "output_type": "display_data",
     "data": {
      "text/html": [
       "<style scoped>\n",
       "  .ansiout {\n",
       "    display: block;\n",
       "    unicode-bidi: embed;\n",
       "    white-space: pre-wrap;\n",
       "    word-wrap: break-word;\n",
       "    word-break: break-all;\n",
       "    font-family: \"Source Code Pro\", \"Menlo\", monospace;;\n",
       "    font-size: 13px;\n",
       "    color: #555;\n",
       "    margin-left: 4px;\n",
       "    line-height: 19px;\n",
       "  }\n",
       "</style>"
      ]
     },
     "metadata": {
      "application/vnd.databricks.v1+output": {
       "arguments": {},
       "data": "",
       "errorSummary": "Command skipped",
       "errorTraceType": "html",
       "metadata": {},
       "type": "ipynbError"
      }
     },
     "output_type": "display_data"
    }
   ],
   "source": [
    "%sql\n",
    "select max(calendar_date) from userdb_nigam_an.fabric_care_isc_global"
   ]
  }
 ],
 "metadata": {
  "application/vnd.databricks.v1+notebook": {
   "dashboards": [],
   "language": "python",
   "notebookMetadata": {
    "mostRecentlyExecutedCommandWithImplicitDF": {
     "commandId": 2054095218629019,
     "dataframes": [
      "_sqldf"
     ]
    },
    "pythonIndentUnit": 2
   },
   "notebookName": "Inventory_Global  Abhishek (1)",
   "notebookOrigID": 2054095218629018,
   "widgets": {}
  }
 },
 "nbformat": 4,
 "nbformat_minor": 0
}
